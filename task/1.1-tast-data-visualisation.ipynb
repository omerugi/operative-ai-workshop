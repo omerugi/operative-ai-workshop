{
 "cells": [
  {
   "cell_type": "markdown",
   "id": "54e8577b-c1ad-4bc2-8ed8-62b9eeb3215c",
   "metadata": {},
   "source": [
    "# Task 1 Part 1: Data visualization\n",
    "\n",
    "In this task, we will take the first step into the field of data!</br>\n",
    "We will explore the different features, how they correlate, and what they represent while also keeping an eye out for any suspicious data. \n",
    "\n",
    "You will need to think logically about what you see and try to make sense out of it :)\n",
    "\n",
    "To do so, follow the steps and read each section, you will find useful tips and functions that will guide you."
   ]
  },
  {
   "cell_type": "markdown",
   "id": "b838a60e-15d7-412a-b831-87452ca78c67",
   "metadata": {},
   "source": [
    "## Understanding the task\n",
    "We want to know based on a person's profile what is an expected salary he/she can get.</br>\n",
    "\n",
    "So how should you start?</br>\n",
    "We first think about the best way to approach such an issue.</br>\n",
    "We will collect data on people to create \"profiles\" and based on common elements our model will predict the salary.\n",
    "\n",
    "The data structure:</br>\n",
    "id, age, name, last_name, sex, married, income, children's, weight, and height.\n",
    "\n",
    "The file will contain 1000 samples of people's profiles."
   ]
  },
  {
   "cell_type": "code",
   "execution_count": null,
   "id": "4be97407-6955-463f-95d9-7bb3a0b60c0f",
   "metadata": {},
   "outputs": [],
   "source": [
    "from Validations import *\n",
    "import pandas as pd\n",
    "from ydata_profiling import ProfileReport\n",
    "from ipywidgets import interactive\n",
    "import warnings\n",
    "\n",
    "warnings.filterwarnings(action='ignore', category=FutureWarning, module=r'seaborn|pandas')\n",
    "os.environ['TF_CPP_MIN_LOG_LEVEL'] = '2'"
   ]
  },
  {
   "cell_type": "markdown",
   "id": "c10dce95-a498-4717-9756-028aa26de1fc",
   "metadata": {},
   "source": [
    "## Loading data\n",
    "The first step is to load the data we have.\n",
    "\n",
    "The code below will do the following:\n",
    "* Load the CSV for us and keep it in 'imbalanced_dataset_v2' \n",
    "* Show us the first 10 samples from the sheet.\n",
    "* Show the columns in the CSV.\n",
    "* Information on each column - how many non-nulls, and type."
   ]
  },
  {
   "cell_type": "code",
   "execution_count": null,
   "id": "252fc1dc-2efa-47d2-9910-060ec4fae21b",
   "metadata": {},
   "outputs": [],
   "source": [
    "imbalanced_dataset_v2 = pd.read_csv('data/salary-dataset.csv')\n",
    "imbalanced_dataset_v2.sample(10)"
   ]
  },
  {
   "cell_type": "code",
   "execution_count": null,
   "id": "4b19d429-6bcb-4c75-9327-6fe138fa93f6",
   "metadata": {},
   "outputs": [],
   "source": [
    "print(imbalanced_dataset_v2.columns)\n",
    "print(imbalanced_dataset_v2.info())"
   ]
  },
  {
   "cell_type": "markdown",
   "id": "114fed2e-b643-4938-a802-d94d8122b354",
   "metadata": {},
   "source": [
    "## Visualization\n",
    "After we loaded the data we can visualize it to see if there are any issues and problems.\n",
    "\n",
    "We check for distributions that make no sense, bad data, and others.\n",
    "\n",
    "There are a few issues in the data try to spot them all</br>\n",
    "For a single feature:\n",
    "* Imbalance between samples - there is one feature with an imbalance between two groups, what is it?\n",
    "* Outliers - there are 2 features with values that don't make sense, which are they?\n",
    "* Null - there are 4 features with nulls, which are they?\n",
    "\n",
    "For two dependant features: (bonus)</br>\n",
    "* Outliers - there are two features when seeing the values together.\n",
    "\n",
    "There are a few functions you can use to make visualization simpler:\n",
    "* plot_feature_distribution(imbalanced_dataset_v2, 'column_name') - will plot the data of a single feature.\n",
    "* plot_two_features(imbalanced_dataset_v2, 'column_name_a', 'column_name_b') - will plot the data of two features as X axis and Y axis.\n",
    "* plot_feature_distribution_with_gender(imbalanced_dataset_v2, 'column_name', gender_flag=True) - will plot the data of a single feature but color male and female samples.\n",
    "* plot_two_features_with_gender(imbalanced_dataset_v2, 'column_name_a', 'column_name_b', gender_flag=True) - will plot the data of two features as X axis and Y axis but color male and female samples.\n",
    "\n",
    "(left a few examples of the functions)\n"
   ]
  },
  {
   "cell_type": "code",
   "execution_count": null,
   "id": "8822c19a-a0ad-4af5-885f-3891d79801aa",
   "metadata": {},
   "outputs": [],
   "source": [
    "plot_feature_distribution(imbalanced_dataset_v2, 'sex')\n",
    "plot_two_features(imbalanced_dataset_v2, 'weight', 'height')\n",
    "plot_feature_distribution_with_gender(imbalanced_dataset_v2, 'income', gender_flag=True)\n",
    "plot_two_features_with_gender(imbalanced_dataset_v2, 'income', 'age', gender_flag=True)"
   ]
  },
  {
   "cell_type": "markdown",
   "id": "24d8bdc3-de21-4c79-a415-618c9d95e02e",
   "metadata": {},
   "source": [
    "## Spcieal treat\n",
    "Run the code below and see what you get ;)"
   ]
  },
  {
   "cell_type": "code",
   "execution_count": null,
   "id": "9480d702-36c5-4ec2-b3ea-17034880e371",
   "metadata": {},
   "outputs": [],
   "source": [
    "report = ProfileReport(imbalanced_dataset_v2, title='My Data')\n",
    "report"
   ]
  },
  {
   "cell_type": "code",
   "execution_count": null,
   "id": "989662b2-2389-4eae-b473-e6cd1e578ebf",
   "metadata": {},
   "outputs": [],
   "source": []
  }
 ],
 "metadata": {
  "kernelspec": {
   "display_name": "Python 3 (ipykernel)",
   "language": "python",
   "name": "python3"
  },
  "language_info": {
   "codemirror_mode": {
    "name": "ipython",
    "version": 3
   },
   "file_extension": ".py",
   "mimetype": "text/x-python",
   "name": "python",
   "nbconvert_exporter": "python",
   "pygments_lexer": "ipython3",
   "version": "3.11.6"
  }
 },
 "nbformat": 4,
 "nbformat_minor": 5
}
