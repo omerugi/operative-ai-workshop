{
 "cells": [
  {
   "cell_type": "markdown",
   "id": "f2e8e08d-78ed-4419-b223-26946a1cc48e",
   "metadata": {},
   "source": [
    "# Model Selection in Machine Learning: Predicting Housing Prices\n",
    "We'll explore how different models perform on a simple task: predicting housing prices using the California Housing dataset. </br>\n",
    "This dataset is built into Scikit-Learn, making it easily accessible for our exercises. Let's get started!"
   ]
  },
  {
   "cell_type": "markdown",
   "id": "922b67d0-8e0f-469b-8c13-5786d0742d9a",
   "metadata": {},
   "source": [
    "<h2>Model Selection</h2>\n",
    "<p>We will explore three different models to predict housing prices: Linear Regression, Decision Tree Regressor, and Random Forest Regressor.</p>\n",
    "\n",
    "<h4>Why is Model Selection Important?</h4>\n",
    "<p>Choosing the right model is crucial because different models have different strengths and weaknesses. The performance of a model can vary depending on the nature of the data and the specific problem we're trying to solve. By evaluating multiple models, we can select the one that provides the best predictions for our particular dataset.</p>\n",
    "\n",
    "<h4>Why Do Some Models Work Better Than Others?</h4>\n",
    "<p>Some models work better than others due to various factors such as:</p>\n",
    "<ul>\n",
    "  <li><strong>Data Complexity</strong>: Complex models like Random Forest Regressor can capture intricate patterns in the data, while simpler models like Linear Regression might miss these patterns.</li>\n",
    "  <li><strong>Overfitting and Underfitting</strong>: A model that is too simple might underfit the data, missing important trends, while a model that is too complex might overfit, capturing noise instead of actual patterns.</li>\n",
    "  <li><strong>Computational Efficiency</strong>: Some models require more computational resources. For large datasets, a simpler, faster model might be more practical.</li>\n",
    "</ul>\n",
    "\n",
    "<h4>How Do We Evaluate the Model?</h4>\n",
    "<p>We will be using <strong>MAE</strong>.</p>\n",
    "<p><strong>MAE</strong> stands for Mean Absolute Error. It's a way to measure how close your machine learning model's predictions are to the actual outcomes. Here's a simple way to understand it:</p>\n",
    "<p>Imagine you're trying to guess the ages of several people. After making your guesses, you find out their real ages and calculate how far off you were for each person. Some guesses might be too high, and some might be too low, but you're only interested in how wrong you were, regardless of the direction. So, you take the absolute value of each mistake (which turns any negative numbers into positives) and then average these to get a single number that tells you how well you did overall.</p>\n",
    "<p>The lower the MAE, the closer your guesses were to the real ages, which means your predictions were pretty accurate!</p>\n",
    "\n",
    "<h4>Mathematical Function for MAE</h4>\n",
    "<details>\n",
    "  <summary>Click to view the mathematical function for MAE</summary>\n",
    "  <p>The mathematical function for MAE is given by:</p>\n",
    "  <p style=\"text-align: center;\"><code>MAE = (1/n) &sum; |y<sub>i</sub> - &ycirc;<sub>i</sub>|</code></p>\n",
    "  <p>Where:</p>\n",
    "  <ul>\n",
    "    <li><code>n</code> is the number of data points</li>\n",
    "    <li><code>y<sub>i</sub></code> is the actual value</li>\n",
    "    <li><code>&ycirc;<sub>i</sub></code> is the predicted value</li>\n",
    "  </ul>\n",
    "</details>"
   ]
  },
  {
   "cell_type": "code",
   "execution_count": 2,
   "id": "e4fbf86f-5475-4c72-9904-5818db6aaaa6",
   "metadata": {},
   "outputs": [],
   "source": [
    "import numpy as np\n",
    "import pandas as pd\n",
    "import matplotlib.pyplot as plt\n",
    "from sklearn.datasets import fetch_california_housing\n",
    "from sklearn.model_selection import train_test_split\n",
    "from sklearn.linear_model import LinearRegression\n",
    "from sklearn.tree import DecisionTreeRegressor\n",
    "from sklearn.ensemble import RandomForestRegressor\n",
    "from sklearn.metrics import mean_absolute_error"
   ]
  },
  {
   "cell_type": "markdown",
   "id": "eda5eda6-7973-45cc-a661-d61ddd97c3e8",
   "metadata": {},
   "source": [
    "## Load and Explore the Dataset\r\n",
    "The California Housing dataset contains metrics such as the median income, housing median age, average rooms, average bedrooms, population, average occupancy, latitude, and longitude for various blocks in California."
   ]
  },
  {
   "cell_type": "code",
   "execution_count": 3,
   "id": "6ebe8d59-90b4-489c-a5ca-611ecb5b793b",
   "metadata": {},
   "outputs": [
    {
     "data": {
      "text/html": [
       "<div>\n",
       "<style scoped>\n",
       "    .dataframe tbody tr th:only-of-type {\n",
       "        vertical-align: middle;\n",
       "    }\n",
       "\n",
       "    .dataframe tbody tr th {\n",
       "        vertical-align: top;\n",
       "    }\n",
       "\n",
       "    .dataframe thead th {\n",
       "        text-align: right;\n",
       "    }\n",
       "</style>\n",
       "<table border=\"1\" class=\"dataframe\">\n",
       "  <thead>\n",
       "    <tr style=\"text-align: right;\">\n",
       "      <th></th>\n",
       "      <th>MedInc</th>\n",
       "      <th>HouseAge</th>\n",
       "      <th>AveRooms</th>\n",
       "      <th>AveBedrms</th>\n",
       "      <th>Population</th>\n",
       "      <th>AveOccup</th>\n",
       "      <th>Latitude</th>\n",
       "      <th>Longitude</th>\n",
       "    </tr>\n",
       "  </thead>\n",
       "  <tbody>\n",
       "    <tr>\n",
       "      <th>0</th>\n",
       "      <td>8.3252</td>\n",
       "      <td>41.0</td>\n",
       "      <td>6.984127</td>\n",
       "      <td>1.023810</td>\n",
       "      <td>322.0</td>\n",
       "      <td>2.555556</td>\n",
       "      <td>37.88</td>\n",
       "      <td>-122.23</td>\n",
       "    </tr>\n",
       "    <tr>\n",
       "      <th>1</th>\n",
       "      <td>8.3014</td>\n",
       "      <td>21.0</td>\n",
       "      <td>6.238137</td>\n",
       "      <td>0.971880</td>\n",
       "      <td>2401.0</td>\n",
       "      <td>2.109842</td>\n",
       "      <td>37.86</td>\n",
       "      <td>-122.22</td>\n",
       "    </tr>\n",
       "    <tr>\n",
       "      <th>2</th>\n",
       "      <td>7.2574</td>\n",
       "      <td>52.0</td>\n",
       "      <td>8.288136</td>\n",
       "      <td>1.073446</td>\n",
       "      <td>496.0</td>\n",
       "      <td>2.802260</td>\n",
       "      <td>37.85</td>\n",
       "      <td>-122.24</td>\n",
       "    </tr>\n",
       "    <tr>\n",
       "      <th>3</th>\n",
       "      <td>5.6431</td>\n",
       "      <td>52.0</td>\n",
       "      <td>5.817352</td>\n",
       "      <td>1.073059</td>\n",
       "      <td>558.0</td>\n",
       "      <td>2.547945</td>\n",
       "      <td>37.85</td>\n",
       "      <td>-122.25</td>\n",
       "    </tr>\n",
       "    <tr>\n",
       "      <th>4</th>\n",
       "      <td>3.8462</td>\n",
       "      <td>52.0</td>\n",
       "      <td>6.281853</td>\n",
       "      <td>1.081081</td>\n",
       "      <td>565.0</td>\n",
       "      <td>2.181467</td>\n",
       "      <td>37.85</td>\n",
       "      <td>-122.25</td>\n",
       "    </tr>\n",
       "  </tbody>\n",
       "</table>\n",
       "</div>"
      ],
      "text/plain": [
       "   MedInc  HouseAge  AveRooms  AveBedrms  Population  AveOccup  Latitude  \\\n",
       "0  8.3252      41.0  6.984127   1.023810       322.0  2.555556     37.88   \n",
       "1  8.3014      21.0  6.238137   0.971880      2401.0  2.109842     37.86   \n",
       "2  7.2574      52.0  8.288136   1.073446       496.0  2.802260     37.85   \n",
       "3  5.6431      52.0  5.817352   1.073059       558.0  2.547945     37.85   \n",
       "4  3.8462      52.0  6.281853   1.081081       565.0  2.181467     37.85   \n",
       "\n",
       "   Longitude  \n",
       "0    -122.23  \n",
       "1    -122.22  \n",
       "2    -122.24  \n",
       "3    -122.25  \n",
       "4    -122.25  "
      ]
     },
     "execution_count": 3,
     "metadata": {},
     "output_type": "execute_result"
    }
   ],
   "source": [
    "california = fetch_california_housing()\n",
    "X = pd.DataFrame(california.data, columns=california.feature_names)\n",
    "y = california.target\n",
    "X.head()"
   ]
  },
  {
   "cell_type": "markdown",
   "id": "fc57c8d7-7779-40d9-a4f7-f3d67e306030",
   "metadata": {},
   "source": [
    "## Visualizing the Data\r",
    "A quick visualization to understand our data better.\r\n",
    "\n"
   ]
  },
  {
   "cell_type": "code",
   "execution_count": 4,
   "id": "66577fcf-03dc-473c-9c90-56b6101ea3e7",
   "metadata": {},
   "outputs": [
    {
     "data": {
      "image/png": "[encoded data removed]",
      "text/plain": [
       "<Figure size 640x480 with 1 Axes>"
      ]
     },
     "metadata": {},
     "output_type": "display_data"
    }
   ],
   "source": [
    "plt.scatter(X['MedInc'], y)\n",
    "plt.xlabel('Median Income (tens of thousands)')\n",
    "plt.ylabel('Median House Value ($100K)')\n",
    "plt.title('Income vs. House Value')\n",
    "plt.show()"
   ]
  },
  {
   "cell_type": "markdown",
   "id": "4f39ddbd-8e30-4375-9645-3ed98c454074",
   "metadata": {},
   "source": [
    "<h2>Splitting the Dataset</h2>\r\n",
    "<p>To make sure our models work well, we need to split our data into two parts:</p>\r\n",
    "<ol>\r\n",
    "  <li><strong>Training Set</strong>: This part is used to train the model, helping it learn patterns in the data.</li>\r\n",
    "  <li><strong>Test Set</strong>: This part is used to test the model after training to see how well it performs on new, unseen data.</li>\r\n",
    "</ol>\r\n",
    "<p>By doing this, we can evaluate how effectively our models will perform in real-world scenarios.</p>\r\n",
    "\n"
   ]
  },
  {
   "cell_type": "code",
   "execution_count": 5,
   "id": "a0aeae1f-aff7-4f8a-8b2a-acab5ef21048",
   "metadata": {},
   "outputs": [],
   "source": [
    "X_train, X_test, y_train, y_test = train_test_split(X, y, test_size=0.2, random_state=42)"
   ]
  },
  {
   "attachments": {},
   "cell_type": "markdown",
   "id": "219d6765-b216-4f25-aa91-3b801477018d",
   "metadata": {},
   "source": [
    "<h3>1. Linear Regression</h3>\r\n",
    "<p>A good baseline model due to its simplicity.</p>\r\n",
    "\r\n",
    "<details>\r\n",
    "  <summary>Click to learn more about Linear Regression</summary>\r\n",
    "  <p><strong>What is Linear Regression?</strong></p>\r\n",
    "  <p>Linear Regression is a simple and commonly used model for predicting a continuous outcome variable (y) based on one or more input features (x). The goal is to find the best-fitting straight line through the data points.</p>\r\n",
    "  \r\n",
    "  <p><strong>How Does It Work?</strong></p>\r\n",
    "  <p>The model works by fitting a line (y = mx + b) to the data, where:</p>\r\n",
    "  <ul>\r\n",
    "    <li><code>y</code> is the predicted value</li>\r\n",
    "    <li><code>x</code> is the input feature</li>\r\n",
    "    <li><code>m</code> is the slope of the line (indicating how much y changes for a one-unit change in x)</li>\r\n",
    "    <li><code>b</code> is the y-intercept (the value of y when x is zero)</li>\r\n",
    "  </ul>\r\n",
    "  <p>The best-fitting line is found by minimizing the sum of the squared differences between the actual and predicted values (this is called the \"least squares\" method).</p>\r\n",
    "  \r\n",
    "  <p><strong>Example</strong></p>\r\n",
    "  <p>Imagine you want to predict the price of a house based on its size. If you plot house prices (y) against their sizes (x), Linear Regression will find the line that best fits these data points. The equation might look something like:</p>\r\n",
    "  <p style=\"text-align: center;\"><code>Price = 200 * Size + 50,000</code></p>\r\n",
    "  <p>In this example:</p>\r\n",
    "  <ul>\r\n",
    "    <li>The slope (<code>m</code>) is <code>200</code>, meaning that for every additional square meter, the USDy 200 units of currency.</li>\r\n",
    "    <li>The y-intercept (<code>b</code>) is <code>50,000</code>, meaning that even if the house size is zero, tUSD50,000 units of currency.</li>\r\n",
    "  </ul>\r\n",
    "</details>\r\n"
   ]
  },
  {
   "cell_type": "code",
   "execution_count": null,
   "id": "e3de48d1-9b0c-48f6-b116-6fe9d5846a54",
   "metadata": {},
   "outputs": [],
   "source": [
    "# Train the Linear Regression model\n",
    "linear_model = LinearRegression()\n",
    "linear_model.fit(X_train, y_train)\n",
    "\n",
    "# Evaluate the model\n",
    "linear_predictions = linear_model.predict(X_test)\n",
    "linear_mae = mean_absolute_error(y_test, linear_predictions)\n",
    "print(\"Linear Regression MAE:\", linear_mae)"
   ]
  },
  {
   "cell_type": "markdown",
   "id": "3d1efe9a-f707-45fd-b81d-bd3c4ce7d26d",
   "metadata": {},
   "source": [
    "<h3>2. Decision Tree Regressor</h3>\r\n",
    "<p>Useful for capturing non-linear relationships.</p>\r\n",
    "\r\n",
    "<details>\r\n",
    "  <summary>Click to learn more about Decision Tree Regressor</summary>\r\n",
    "  <p><strong>What is a Decision Tree Regressor?</strong></p>\r\n",
    "  <p>A Decision Tree Regressor is a machine learning model used for predicting continuous outcomes. It splits the data into subsets based on feature values, creating a tree-like structure where each leaf node represents a predicted value.</p>\r\n",
    "  \r\n",
    "  <p><strong>How Does It Work?</strong></p>\r\n",
    "  <p>The model works by recursively splitting the data at each node based on the feature that results in the largest decrease in variance (or another criterion). This process continues until the tree reaches a specified depth or other stopping criteria.</p>\r\n",
    "  <p>Key components include:</p>\r\n",
    "  <ul>\r\n",
    "    <li><strong>Root Node</strong>: The starting point of the tree, representing the entire dataset.</li>\r\n",
    "    <li><strong>Decision Nodes</strong>: Points where the data is split based on a feature value.</li>\r\n",
    "    <li><strong>Leaf Nodes</strong>: The end points of the tree that provide the predicted values.</li>\r\n",
    "  </ul>\r\n",
    "\r\n",
    "  <p><strong>Example</strong></p>\r\n",
    "  <p>Imagine you want to predict the price of a house based on various features like size, number of rooms, and location. The Decision Tree Regressor will create splits based on these features, resulting in a tree where each leaf node provides a predicted price.</p>\r\n",
    "  <p>For instance:</p>\r\n",
    "  <ul>\r\n",
    "    <li>If the house size is greater than 100 square meters and has more than 3 rooms, it might fall into one leaf node with a predicted price of 300,000 units of currency.</li>\r\n",
    "    <li>If the house size is less than 100 square meters but is located in a prime area, it might fall into another leaf node with a predicted price of 250,000 units of currency.</i>\r\n",
    "  </ul>\r\n",
    "</details>\r\n",
    "."
   ]
  },
  {
   "cell_type": "code",
   "execution_count": null,
   "id": "a06f1437-1023-449d-b64f-7c2ec2a7f35f",
   "metadata": {},
   "outputs": [],
   "source": [
    "# Train the Decision Tree model\n",
    "tree_model = DecisionTreeRegressor(random_state=42)\n",
    "tree_model.fit(X_train, y_train)\n",
    "\n",
    "# Evaluate the model\n",
    "tree_predictions = tree_model.predict(X_test)\n",
    "tree_mae = mean_absolute_error(y_test, tree_predictions)\n",
    "print(\"Decision Tree Regressor MAE:\", tree_mae)"
   ]
  },
  {
   "cell_type": "markdown",
   "id": "b729e45b-04a1-441c-a354-3f484ae516c0",
   "metadata": {},
   "source": [
    "<h3>3. Random Forest Regressor</h3>\r\n",
    "<p>An ensemble method that generally provides high accuracy.</p>\r\n",
    "\r\n",
    "<details>\r\n",
    "  <summary>Click to learn more about Random Forest Regressor</summary>\r\n",
    "  <p><strong>What is a Random Forest Regressor?</strong></p>\r\n",
    "  <p>A Random Forest Regressor is an ensemble learning method that uses multiple decision trees to improve the accuracy and robustness of predictions. Each tree in the forest is trained on a random subset of the data, and the final prediction is the average of all the trees' predictions.</p>\r\n",
    "  \r\n",
    "  <p><strong>How Does It Work?</strong></p>\r\n",
    "  <p>The model works by constructing a multitude of decision trees during training and outputting the average prediction of the individual trees. Key steps include:</p>\r\n",
    "  <ul>\r\n",
    "    <li><strong>Bootstrap Sampling</strong>: Random subsets of the original data are created with replacement.</li>\r\n",
    "    <li><strong>Tree Construction</strong>: Each subset is used to build a decision tree.</li>\r\n",
    "    <li><strong>Aggregation</strong>: The predictions of all the trees are averaged to produce the final output.</li>\r\n",
    "  </ul>\r\n",
    "\r\n",
    "  <p><strong>Example</strong></p>\r\n",
    "  <p>Imagine you want to predict the price of a house based on various features like size, number of rooms, and location. The Random Forest Regressor will create multiple decision trees, each trained on different random subsets of the data. Each tree will make a prediction, and the final predicted price will be the average of all these predictions.</p>\r\n",
    "  <p>For instance:</p>\r\n",
    "  <ul>\r\n",
    "    <li>Tree 1 might predict a price of 280,000 units of currency.</li>\r\n",
    "    <li>Tree 2 might predict a price of 290,000 units of currency.</li>\r\n",
    "    <li>Tree 3 might predict a price of 310,000 units of currency.</li>\r\n",
    "  </ul>\r\n",
    "  <p>The Random Forest Regressor will average these predictions to give a final predicted price of (280,000 + 290,000 + 310,000) / 3 = 293,333 units of currency.</p>\r\n",
    "</details>\r\n"
   ]
  },
  {
   "cell_type": "code",
   "execution_count": null,
   "id": "541c2d47-fbf3-4f3a-b305-09730e402d9d",
   "metadata": {},
   "outputs": [],
   "source": [
    "# Train the Random Forest model\n",
    "forest_model = RandomForestRegressor(n_estimators=100, random_state=42)\n",
    "forest_model.fit(X_train, y_train)\n",
    "\n",
    "# Evaluate the model\n",
    "forest_predictions = forest_model.predict(X_test)\n",
    "forest_mae = mean_absolute_error(y_test, forest_predictions)\n",
    "print(\"Random Forest Regressor MAE:\", forest_mae)\n"
   ]
  },
  {
   "cell_type": "markdown",
   "id": "83b67cc2-769d-484b-88f7-892f8db8c118",
   "metadata": {},
   "source": [
    "## Comparison\r",
    "After training and evaluating our models, let's compare their performance.\r\n",
    "\n"
   ]
  },
  {
   "cell_type": "code",
   "execution_count": null,
   "id": "e074fa9e-8841-41c3-9391-17625d071af3",
   "metadata": {},
   "outputs": [],
   "source": [
    "# Comparing the MAE of all models\n",
    "mae_values = [linear_mae, tree_mae, forest_mae]\n",
    "model_names = ['Linear Regression', 'Decision Tree', 'Random Forest']\n",
    "\n",
    "plt.bar(model_names, mae_values)\n",
    "plt.ylabel('Mean Absolute Error')\n",
    "plt.title('Model Comparison')\n",
    "plt.show()"
   ]
  },
  {
   "cell_type": "markdown",
   "id": "3ed3e7cd-4291-44e3-9ee3-9acc2aaf90c1",
   "metadata": {},
   "source": [
    "## Improve\n",
    "We saw some base models and compared them, but we can improve the performance of our model by modifying parameters."
   ]
  },
  {
   "cell_type": "markdown",
   "id": "851f343d-7d75-41f2-b7e1-af4569da9b41",
   "metadata": {},
   "source": [
    "### Decision Tree Regressor Parameters\r\n",
    "Let's adjust the max_depth parameter of the Decision Tree Regressor and see how it influences the model\n",
    "\n",
    "max_depth: Controls the maximum depth of the tree. A deeper tree can capture more complex patterns but also risks overfitting. Setting it too low might not capture enough complexity, leading to underfitting.."
   ]
  },
  {
   "cell_type": "code",
   "execution_count": null,
   "id": "ab3adaa0-c9b4-4e19-a40f-8f4a204bb01e",
   "metadata": {},
   "outputs": [],
   "source": [
    "# Varying the max_depth of the Decision Tree\n",
    "max_depth_values = [2, 4, 6, 8, None]  # None means the tree can grow as much as it needs\n",
    "dt_mae_scores = []\n",
    "\n",
    "for depth in max_depth_values:\n",
    "    dt_model = DecisionTreeRegressor(max_depth=depth, random_state=42)\n",
    "    dt_model.fit(X_train, y_train)\n",
    "    dt_predictions = dt_model.predict(X_test)\n",
    "    dt_mae = mean_absolute_error(y_test, dt_predictions)\n",
    "    dt_mae_scores.append(dt_mae)\n",
    "\n",
    "# Plotting the MAE scores for different max_depth values\n",
    "plt.figure(figsize=(10, 5))\n",
    "plt.plot(['2', '4', '6', '8', 'None'], dt_mae_scores, marker='o')\n",
    "plt.xlabel('Max Depth')\n",
    "plt.ylabel('Mean Absolute Error')\n",
    "plt.title('Decision Tree Performance vs. Max Depth')\n",
    "plt.show()"
   ]
  },
  {
   "cell_type": "markdown",
   "id": "c6d8b589-7186-4bb0-a905-ef4abc6c2916",
   "metadata": {},
   "source": [
    "### Random Forest Regressor Parameters\r\n",
    "For the Random Forest Regressor, let's tweak the n_estimators parameter, which controls the number of trees in the forest\n",
    "\n",
    "n_estimators: Determines the number of trees in the forest. More trees can lead to better performance but also require more computational resources. It's a balance between performance and efficiency.."
   ]
  },
  {
   "cell_type": "code",
   "execution_count": null,
   "id": "ceba9c9e-da74-4351-a81e-f4ba9b818f84",
   "metadata": {},
   "outputs": [],
   "source": [
    "# Adjusting the n_estimators of the Random Forest\n",
    "n_estimators_values = [10, 50, 100, 200]\n",
    "rf_mae_scores = []\n",
    "\n",
    "for n_estimators in n_estimators_values:\n",
    "    rf_model = RandomForestRegressor(n_estimators=n_estimators, random_state=42)\n",
    "    rf_model.fit(X_train, y_train)\n",
    "    rf_predictions = rf_model.predict(X_test)\n",
    "    rf_mae = mean_absolute_error(y_test, rf_predictions)\n",
    "    rf_mae_scores.append(rf_mae)\n",
    "\n",
    "# Plotting the MAE scores for different n_estimators values\n",
    "plt.figure(figsize=(10, 5))\n",
    "plt.plot(n_estimators_values, rf_mae_scores, marker='o')\n",
    "plt.xlabel('Number of Trees (n_estimators)')\n",
    "plt.ylabel('Mean Absolute Error')\n",
    "plt.title('Random Forest Performance vs. Number of Trees')\n",
    "plt.show()"
   ]
  },
  {
   "cell_type": "markdown",
   "id": "55903c5b-d162-4ab7-801a-5f49b65f1bea",
   "metadata": {},
   "source": [
    "### Playing with Parameters\n",
    "Adjusting these parameters allows us to control the model's complexity and its ability to generalize from training data to unseen data. Here's how you can play with them:\n",
    "\n",
    "For the Decision Tree, start with a low max_depth and gradually increase it to see how the model's performance changes. Notice when the performance starts to degrade, indicating overfitting.</br>\n",
    "For the Random Forest, increasing n_estimators generally improves model performance up to a point. Identify the sweet spot where adding more trees has diminishing returns on performance improvement. </br>"
   ]
  },
  {
   "cell_type": "code",
   "execution_count": null,
   "id": "693552fa-8481-4184-808c-5103a1d73480",
   "metadata": {},
   "outputs": [],
   "source": []
  }
 ],
 "metadata": {
  "kernelspec": {
   "display_name": "Python 3 (ipykernel)",
   "language": "python",
   "name": "python3"
  },
  "language_info": {
   "codemirror_mode": {
    "name": "ipython",
    "version": 3
   },
   "file_extension": ".py",
   "mimetype": "text/x-python",
   "name": "python",
   "nbconvert_exporter": "python",
   "pygments_lexer": "ipython3",
   "version": "3.11.6"
  }
 },
 "nbformat": 4,
 "nbformat_minor": 5
}
